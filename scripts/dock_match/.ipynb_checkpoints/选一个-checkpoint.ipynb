{
 "cells": [
  {
   "cell_type": "code",
   "execution_count": null,
   "metadata": {},
   "outputs": [],
   "source": [
    "import pandas as pd\n",
    "import numpy as np\n",
    "\n",
    "data = pd.read_csv('./egfr_6jxt_m_ks.csv')\n",
    "mol_ids = data['s_lp_Variant_type']\n",
    "mol_scores = data['r_i_docking_score']\n",
    "#mol_ids_clean = ['-'.join(i.split('-')[:-1]) for i in mol_ids]"
   ]
  },
  {
   "cell_type": "code",
   "execution_count": null,
   "metadata": {},
   "outputs": [],
   "source": [
    "save_col = []\n",
    "for index, a_id in enumerate(mol_ids):\n",
    "    if index == 0:\n",
    "        aim_id = a_id\n",
    "        max_score = mol_scores[index]\n",
    "        save_index = index\n",
    "        continue\n",
    "    if a_id == aim_id:\n",
    "        if mol_scores[index] < max_score:\n",
    "            max_score = mol_scores[index]\n",
    "            save_index = index\n",
    "        else:\n",
    "            continue\n",
    "    else:\n",
    "        print(save_index, aim_id, max_score)\n",
    "        save_col.append(save_index)\n",
    "        aim_id = a_id\n",
    "        max_score = mol_scores[index]\n",
    "        save_index = index\n",
    "        continue\n",
    "del_col = []\n",
    "for i in range(len(mol_scores)):\n",
    "    if i in save_col:\n",
    "        continue\n",
    "    else:\n",
    "        del_col.append(i)\n",
    "\n",
    "data.drop(del_col, inplace=True)\n",
    "data.to_csv('./egfr_6jxt_m_ks_one.csv',index=0)"
   ]
  },
  {
   "cell_type": "code",
   "execution_count": null,
   "metadata": {},
   "outputs": [],
   "source": [
    "data = pd.read_csv('./braf_6v2u_m_ks.csv')\n",
    "mol_ids = data['s_lp_Variant_type']\n",
    "mol_scores = data['r_i_docking_score']\n",
    "save_col = []\n",
    "for index, a_id in enumerate(mol_ids):\n",
    "    if index == 0:\n",
    "        aim_id = a_id\n",
    "        max_score = mol_scores[index]\n",
    "        save_index = index\n",
    "        continue\n",
    "    if a_id == aim_id:\n",
    "        if mol_scores[index] < max_score:\n",
    "            max_score = mol_scores[index]\n",
    "            save_index = index\n",
    "        else:\n",
    "            continue\n",
    "    else:\n",
    "        print(save_index, aim_id, max_score)\n",
    "        save_col.append(save_index)\n",
    "        aim_id = a_id\n",
    "        max_score = mol_scores[index]\n",
    "        save_index = index\n",
    "        continue\n",
    "del_col = []\n",
    "for i in range(len(mol_scores)):\n",
    "    if i in save_col:\n",
    "        continue\n",
    "    else:\n",
    "        del_col.append(i)\n",
    "\n",
    "data.drop(del_col, inplace=True)\n",
    "data.to_csv('./braf_6v2u_m_ks_one.csv',index=0)"
   ]
  },
  {
   "cell_type": "code",
   "execution_count": null,
   "metadata": {},
   "outputs": [],
   "source": []
  }
 ],
 "metadata": {
  "kernelspec": {
   "display_name": "Python 3",
   "language": "python",
   "name": "python3"
  },
  "language_info": {
   "codemirror_mode": {
    "name": "ipython",
    "version": 3
   },
   "file_extension": ".py",
   "mimetype": "text/x-python",
   "name": "python",
   "nbconvert_exporter": "python",
   "pygments_lexer": "ipython3",
   "version": "3.8.3"
  }
 },
 "nbformat": 4,
 "nbformat_minor": 4
}
