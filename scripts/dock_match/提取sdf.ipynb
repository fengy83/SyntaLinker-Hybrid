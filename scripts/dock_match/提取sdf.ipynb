{
 "cells": [
  {
   "cell_type": "code",
   "execution_count": 19,
   "metadata": {},
   "outputs": [],
   "source": [
    "from rdkit import Chem\n",
    "import pandas as pd\n",
    "import numpy as np"
   ]
  },
  {
   "cell_type": "code",
   "execution_count": 22,
   "metadata": {
    "scrolled": true
   },
   "outputs": [],
   "source": [
    "df = pd.DataFrame(columns=['id','file_id','s_m_entry_id', 'smiles', 's_lp_Variant', 's_lp_Variant_type1','s_lp_Variant_type2', 'mol_type','r_i_docking_score','ph_type'])\n",
    "def sdf_df(path, df, num,file_id):\n",
    "    suppl = Chem.SDMolSupplier(path)\n",
    "    for index, mol in enumerate(suppl):\n",
    "        df.loc[index+num,'id']=index+num\n",
    "        df.loc[index+num,'file_id']=file_id\n",
    "        df.loc[index+num,'s_m_entry_id']=int(mol.GetProp(\"s_m_entry_id\"))\n",
    "        df.loc[index+num,'smiles']=Chem.MolToSmiles(mol)\n",
    "        df.loc[index+num,'s_lp_Variant']=mol.GetProp(\"s_lp_Variant\")\n",
    "        df.loc[index+num,'s_lp_Variant_type1']=''.join(mol.GetProp(\"s_lp_Variant\").split('-')[:-1])\n",
    "        df.loc[index+num,'s_lp_Variant_type2']=mol.GetProp(\"s_lp_Variant\").split('-')[-1]\n",
    "        df.loc[index+num,'mol_type']=mol.GetProp(\"s_lp_Variant\")[0]\n",
    "        df.loc[index+num,'r_i_docking_score']=mol.GetProp(\"r_i_docking_score\")\n",
    "        df.loc[index+num,'ph_type']=mol.GetProp('ph_type')\n",
    "    return df, df.shape[0]"
   ]
  },
  {
   "cell_type": "code",
   "execution_count": 23,
   "metadata": {},
   "outputs": [
    {
     "name": "stdout",
     "output_type": "stream",
     "text": [
      "41380\n"
     ]
    }
   ],
   "source": [
    "df,num = sdf_df('./sp_1uwh_dockingks_gase.sdf', df, 0,1)\n",
    "df,num = sdf_df('./sp_6v2u_dockingks2_gase.sdf', df, num,2)\n",
    "print(num)\n",
    "df.to_csv('./braf_6v2u_m_ks.csv',index=0)"
   ]
  },
  {
   "cell_type": "code",
   "execution_count": 24,
   "metadata": {},
   "outputs": [
    {
     "name": "stdout",
     "output_type": "stream",
     "text": [
      "50131\n"
     ]
    }
   ],
   "source": [
    "df,num = sdf_df('./sp_6jxt_dockingks_gase.sdf', df, 0,1)\n",
    "df,num = sdf_df('./sp_6jxt_dockingks2_gase.sdf', df, num,2)\n",
    "print(num)\n",
    "df.to_csv('./egfr_6jxt_m_ks.csv',index=0)"
   ]
  },
  {
   "cell_type": "code",
   "execution_count": null,
   "metadata": {},
   "outputs": [],
   "source": []
  }
 ],
 "metadata": {
  "kernelspec": {
   "display_name": "Python 3",
   "language": "python",
   "name": "python3"
  },
  "language_info": {
   "codemirror_mode": {
    "name": "ipython",
    "version": 3
   },
   "file_extension": ".py",
   "mimetype": "text/x-python",
   "name": "python",
   "nbconvert_exporter": "python",
   "pygments_lexer": "ipython3",
   "version": "3.8.3"
  }
 },
 "nbformat": 4,
 "nbformat_minor": 4
}
